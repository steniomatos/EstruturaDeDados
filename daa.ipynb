{
  "nbformat": 4,
  "nbformat_minor": 0,
  "metadata": {
    "colab": {
      "provenance": [],
      "authorship_tag": "ABX9TyO9hf29oPnkz9DbOqEnsmc1",
      "include_colab_link": true
    },
    "kernelspec": {
      "name": "python3",
      "display_name": "Python 3"
    },
    "language_info": {
      "name": "python"
    }
  },
  "cells": [
    {
      "cell_type": "markdown",
      "metadata": {
        "id": "view-in-github",
        "colab_type": "text"
      },
      "source": [
        "<a href=\"https://colab.research.google.com/github/steniomatos/EstruturaDeDados/blob/main/daa.ipynb\" target=\"_parent\"><img src=\"https://colab.research.google.com/assets/colab-badge.svg\" alt=\"Open In Colab\"/></a>"
      ]
    },
    {
      "cell_type": "code",
      "execution_count": 2,
      "metadata": {
        "colab": {
          "base_uri": "https://localhost:8080/",
          "height": 207
        },
        "id": "z4CUjmsMAJma",
        "outputId": "b8325f5d-7e83-4f0f-8493-6f84a03c07ca"
      },
      "outputs": [
        {
          "output_type": "display_data",
          "data": {
            "text/plain": [
              "<Figure size 1000x200 with 1 Axes>"
            ],
            "image/png": "[encoded data removed]"
          },
          "metadata": {}
        }
      ],
      "source": [
        "import matplotlib.pyplot as plt\n",
        "\n",
        "# Dados\n",
        "x = list(range(0, 61))  # de 0 a 60\n",
        "y = [0] * len(x)  # y = 0 para todos os x\n",
        "\n",
        "# Criando o gráfico\n",
        "plt.figure(figsize=(10, 2))\n",
        "\n",
        "# Parte vermelha: de 0 a 15\n",
        "plt.plot(x[:16], y[:16], color='red', linewidth=4, label='Caso TIMEOUT2 < 45')\n",
        "\n",
        "# Parte amarela: de 16 a 60\n",
        "plt.plot(x[15:], y[15:], color='gold', linewidth=4, label='Volta para DAA1_OFF')\n",
        "\n",
        "# Personalização\n",
        "plt.xlabel('Tempo')\n",
        "plt.yticks([])  # Remove marcações no eixo y\n",
        "plt.grid(axis='x')\n",
        "plt.legend(loc='upper right')\n",
        "plt.tight_layout()\n",
        "\n",
        "plt.show()\n"
      ]
    }
  ]
}